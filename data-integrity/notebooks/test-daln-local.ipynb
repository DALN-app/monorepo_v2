{
 "cells": [
  {
   "cell_type": "markdown",
   "id": "3e4eb758",
   "metadata": {},
   "source": [
    "## DALN Test App"
   ]
  },
  {
   "cell_type": "markdown",
   "id": "6baee29d",
   "metadata": {},
   "source": [
    "# A. Node Owner"
   ]
  },
  {
   "cell_type": "markdown",
   "id": "a4622208",
   "metadata": {},
   "source": [
    "### 1. Create a new session as owner"
   ]
  },
  {
   "cell_type": "code",
   "execution_count": 1,
   "id": "12ce3f0d",
   "metadata": {},
   "outputs": [
    {
     "name": "stdout",
     "output_type": "stream",
     "text": [
      "{\"res\":\"ok\",\"data\":\"pong 1693816310170\"}\n"
     ]
    }
   ],
   "source": [
    "from weaveapi.records import *\n",
    "from weaveapi.options import *\n",
    "from weaveapi.filter import *\n",
    "from weaveapi.weaveh import *\n",
    "\n",
    "import pandas as pd\n",
    "\n",
    "from web3.auto import w3\n",
    "from eth_account.messages import encode_defunct\n",
    "from hexbytes import HexBytes\n",
    "\n",
    "WEAVE_CONFIG = \"config/demo_client_local_daln.config\"\n",
    "nodeApiOwner, sessionOwner = connect_weave_api(WEAVE_CONFIG)\n",
    "\n",
    "organization = \"daln\"\n",
    "\n",
    "data_collection = \"vault\"\n",
    "sum_table = \"summaries\""
   ]
  },
  {
   "cell_type": "markdown",
   "id": "27f1ae57",
   "metadata": {},
   "source": [
    "### 2. Create a table to store user data (WARN: removes all previously stored data)"
   ]
  },
  {
   "cell_type": "code",
   "execution_count": 2,
   "id": "3050073f",
   "metadata": {},
   "outputs": [
    {
     "name": "stdout",
     "output_type": "stream",
     "text": [
      "{'res': 'ok', 'target': {'operationType': 'CREATE_TABLE', 'organization': 'daln', 'account': 'daln', 'scope': 'vault', 'table': 'summaries'}}\n"
     ]
    }
   ],
   "source": [
    "layout = { \n",
    "    \"columns\": { \n",
    "        \"id\": { \"type\": \"LONG\", \"isIndexed\": True, \"isUnique\": True, \"isNullable\": False },\n",
    "        \"ts\": { \"type\": \"LONG\" },\n",
    "        \"writer\": { \"type\": \"STRING\" },\n",
    "        \"wallet\": { \"type\": \"STRING\" },\n",
    "        \"sig\": { \"type\": \"STRING\" },\n",
    "        \"access\": { \"type\": \"STRING\" },\n",
    "        \"content\": { \"type\": \"STRING\" },\n",
    "        \"metadata\": { \"type\": \"STRING\" }\n",
    "    }, \n",
    "    \"idColumnIndex\": 0,  # Autogenerates IDs\n",
    "    \"timestampColumnIndex\": 1, # Fills the column automatically with the network time\n",
    "    \"ownerColumnIndex\": 2, # Fills the column automatically with the public key of the writer\n",
    "    \"walletColumnIndex\": 3, # Fills the column automatically with the wallet of the writer (if any)\n",
    "    \"signatureColumnIndex\": 4, # Fills the column with an EdDSA signature of the record hash\n",
    "    \"allowedRolesColumnIndex\": 5, # Fills the column with the allowed reader\n",
    "    \"isLocal\": False,\n",
    "    \"applyReadTransformations\": True\n",
    "}\n",
    "\n",
    "nodeApiOwner.dropTable(sessionOwner, data_collection, sum_table).get()\n",
    "reply = nodeApiOwner.createTable(sessionOwner, data_collection, sum_table, CreateOptions(False, False, layout)).get()\n",
    "print(reply)"
   ]
  },
  {
   "cell_type": "markdown",
   "id": "5383a949",
   "metadata": {},
   "source": [
    "# B. User"
   ]
  },
  {
   "cell_type": "markdown",
   "id": "38aac378",
   "metadata": {},
   "source": [
    "### 3. Create a new session"
   ]
  },
  {
   "cell_type": "markdown",
   "id": "f5cccd1b",
   "metadata": {},
   "source": [
    "- we prove wallet ownership here in order to link our custodial wallet to a blockchain address"
   ]
  },
  {
   "cell_type": "code",
   "execution_count": 3,
   "id": "33a2f798",
   "metadata": {},
   "outputs": [
    {
     "name": "stdout",
     "output_type": "stream",
     "text": [
      "{'account': 'polygon:0x3389798389CD7C54C02dBB253c9f7e6851672Ab5', 'sig': '0xb4b039f1426e885e5b544d758f26f1d11c66fc18568ea8ce6d1939a63e36155231381f3554375db7d07e4fef4c9452b507e9297e759eb5f213a379da5ffa01291b', 'template': '*', 'role': '*'}\n",
      "weavez8GanHdU3jZf186xkbjwMdnZpgT1xtfnaaEtUPAzbpX6\n",
      "{\"res\":\"ok\",\"data\":\"pong 1693816311995\"}\n"
     ]
    }
   ],
   "source": [
    "from weaveapi.records import *\n",
    "from weaveapi.options import *\n",
    "from weaveapi.filter import *\n",
    "from weaveapi.weaveh import *\n",
    "\n",
    "from web3.auto import w3\n",
    "from eth_account.messages import encode_defunct\n",
    "from hexbytes import HexBytes\n",
    "\n",
    "keys = nodeApiOwner.generateKeys()\n",
    "pub = keys[0]\n",
    "pvk = keys[1]\n",
    "\n",
    "node_url = \"http://host.docker.internal:47080/099cdbbe4213bff84ec9c051749e090e\"\n",
    "\n",
    "chain = \"polygon\"\n",
    "wallet = \"0x3389798389CD7C54C02dBB253c9f7e6851672Ab5\" # Wallet\n",
    "with open(\"config/\" + wallet[0:6] + \".pvk\") as f:     # Expecting a .pvk file with the same name in the jupyter server\n",
    "    eth_pvk = f.read()\n",
    "\n",
    "msg = \"Please sign this message to confirm you own this wallet\\nThere will be no blockchain transaction or any gas fees.\\n\\nWallet: \" + wallet + \"\\nKey: \" + pub\n",
    "message = encode_defunct(text=msg)\n",
    "signature = w3.eth.account.sign_message(message, private_key=eth_pvk)\n",
    "credentials = {\n",
    "    \"account\": chain + \":\" + wallet,\n",
    "    \"sig\": signature.signature.hex(),\n",
    "    \"template\": \"*\",\n",
    "    \"role\": \"*\"\n",
    "}\n",
    "print(credentials)\n",
    "print(pub)\n",
    "config = weave_client_config(pub, pvk, node_url, organization)\n",
    "nodeApiUser, sessionUser = connect_weave_api(config, credentials)"
   ]
  },
  {
   "cell_type": "markdown",
   "id": "b00cac3c",
   "metadata": {},
   "source": [
    "### 4. Write a record"
   ]
  },
  {
   "cell_type": "code",
   "execution_count": 4,
   "id": "7f398f70",
   "metadata": {
    "scrolled": true
   },
   "outputs": [
    {
     "name": "stdout",
     "output_type": "stream",
     "text": [
      "{'res': 'ok', 'target': {'operationType': 'WRITE', 'organization': 'daln', 'account': 'weavez8GanHdU3jZf186xkbjwMdnZpgT1xtfnaaEtUPAzbpX6', 'scope': 'vault', 'table': 'summaries'}, 'data': 'weaveeGhKYJCZbmB96Qi8MFFqUQFx9u2NFdwK29RcTLZHpp4d,IgXmaH7Z7xUh7KLk8H9Jjtr/T2q/uvaADnadggKLu1g=,2Gy8yhta7upeCVoLkGk9skbQuQtXoGUBydykQ4tqmtFXg333a3sidM1hUdDD22GArP1B7anRbEUujp5Awvweew74', 'ids': '2'}\n"
     ]
    }
   ],
   "source": [
    "rows = [\n",
    "    [ \n",
    "        None, # id, autofilled\n",
    "        None, # timestamp, autofilled\n",
    "        None, # writer, autofilled\n",
    "        None, # wallet, autofilled\n",
    "        None, # signature, autofilled\n",
    "        \"writer\",\n",
    "        '{\"some\": \"content\"}',\n",
    "        '{\"some\": \"metadata\"}'\n",
    "    ]\n",
    "]\n",
    "\n",
    "records = Records(sum_table, rows)\n",
    "res = nodeApiUser.write(sessionUser, data_collection, records, WRITE_DEFAULT).get()\n",
    "print(res)"
   ]
  },
  {
   "cell_type": "markdown",
   "id": "0f4eca0b",
   "metadata": {},
   "source": [
    "**Try to read records**"
   ]
  },
  {
   "cell_type": "code",
   "execution_count": 5,
   "id": "888f88b3",
   "metadata": {},
   "outputs": [
    {
     "name": "stdout",
     "output_type": "stream",
     "text": [
      "{'res': 'err', 'target': {'operationType': 'READ', 'organization': 'daln', 'account': 'weavez8GanHdU3jZf186xkbjwMdnZpgT1xtfnaaEtUPAzbpX6', 'scope': 'vault', 'table': 'summaries'}, 'message': 'Access denied'}\n"
     ]
    }
   ],
   "source": [
    "filter = Filter(None, { \"id\": \"ASC\" }, None, None, None)\n",
    "reply = nodeApiUser.read(sessionUser, data_collection, sum_table, filter, READ_DEFAULT_NO_CHAIN).get()\n",
    "print(reply)"
   ]
  },
  {
   "cell_type": "markdown",
   "id": "3df911f2",
   "metadata": {},
   "source": [
    "# C. Node Owner"
   ]
  },
  {
   "cell_type": "markdown",
   "id": "e4797299",
   "metadata": {},
   "source": [
    "### 5. Read data as owner"
   ]
  },
  {
   "cell_type": "code",
   "execution_count": 14,
   "id": "8373ce3d",
   "metadata": {
    "scrolled": true
   },
   "outputs": [
    {
     "data": {
      "text/html": [
       "<div>\n",
       "<style scoped>\n",
       "    .dataframe tbody tr th:only-of-type {\n",
       "        vertical-align: middle;\n",
       "    }\n",
       "\n",
       "    .dataframe tbody tr th {\n",
       "        vertical-align: top;\n",
       "    }\n",
       "\n",
       "    .dataframe thead th {\n",
       "        text-align: right;\n",
       "    }\n",
       "</style>\n",
       "<table border=\"1\" class=\"dataframe\">\n",
       "  <thead>\n",
       "    <tr style=\"text-align: right;\">\n",
       "      <th></th>\n",
       "      <th>id</th>\n",
       "      <th>ts</th>\n",
       "      <th>writer</th>\n",
       "      <th>wallet</th>\n",
       "      <th>sig</th>\n",
       "      <th>access</th>\n",
       "      <th>content</th>\n",
       "      <th>metadata</th>\n",
       "    </tr>\n",
       "  </thead>\n",
       "  <tbody>\n",
       "    <tr>\n",
       "      <th>0</th>\n",
       "      <td>3</td>\n",
       "      <td>1693816316100</td>\n",
       "      <td>weavegJuDzuduwkpp8mqGAERufHWAxT6Km6ZASEbAuRfrR51a</td>\n",
       "      <td>0x1bC466cB75a831eB10E00bC67f0Fa82d3Df1b95D</td>\n",
       "      <td>[{\"sig\":{\"recordsHash\":\"rMvDwrUE9OtEfFo3ySCaAV...</td>\n",
       "      <td>writer</td>\n",
       "      <td>{\\n  \"0\": {\\n    \"account_id\": \"vEg559WkA4CXpn...</td>\n",
       "      <td>{\"ts\":1693816315866,\"plaidAccount\":\"dummy\"}</td>\n",
       "    </tr>\n",
       "    <tr>\n",
       "      <th>1</th>\n",
       "      <td>4</td>\n",
       "      <td>1693817064096</td>\n",
       "      <td>weave29s4GrdsEs9ieFvDtT2SE56PzZqvxtPqtiLVCKzoL...</td>\n",
       "      <td>0x1bC466cB75a831eB10E00bC67f0Fa82d3Df1b95D</td>\n",
       "      <td>[{\"sig\":{\"recordsHash\":\"G64/IfXHRUwQQGD7PAhsrs...</td>\n",
       "      <td>writer</td>\n",
       "      <td>{\\n  \"0\": {\\n    \"account_id\": \"vEg559WkA4CXpn...</td>\n",
       "      <td>{\"ts\":1693817063845,\"plaidAccount\":\"dummy\"}</td>\n",
       "    </tr>\n",
       "  </tbody>\n",
       "</table>\n",
       "</div>"
      ],
      "text/plain": [
       "   id             ts                                             writer  \\\n",
       "0   3  1693816316100  weavegJuDzuduwkpp8mqGAERufHWAxT6Km6ZASEbAuRfrR51a   \n",
       "1   4  1693817064096  weave29s4GrdsEs9ieFvDtT2SE56PzZqvxtPqtiLVCKzoL...   \n",
       "\n",
       "                                       wallet  \\\n",
       "0  0x1bC466cB75a831eB10E00bC67f0Fa82d3Df1b95D   \n",
       "1  0x1bC466cB75a831eB10E00bC67f0Fa82d3Df1b95D   \n",
       "\n",
       "                                                 sig  access  \\\n",
       "0  [{\"sig\":{\"recordsHash\":\"rMvDwrUE9OtEfFo3ySCaAV...  writer   \n",
       "1  [{\"sig\":{\"recordsHash\":\"G64/IfXHRUwQQGD7PAhsrs...  writer   \n",
       "\n",
       "                                             content  \\\n",
       "0  {\\n  \"0\": {\\n    \"account_id\": \"vEg559WkA4CXpn...   \n",
       "1  {\\n  \"0\": {\\n    \"account_id\": \"vEg559WkA4CXpn...   \n",
       "\n",
       "                                      metadata  \n",
       "0  {\"ts\":1693816315866,\"plaidAccount\":\"dummy\"}  \n",
       "1  {\"ts\":1693817063845,\"plaidAccount\":\"dummy\"}  "
      ]
     },
     "metadata": {},
     "output_type": "display_data"
    },
    {
     "data": {
      "text/plain": [
       "[{'sig': {'recordsHash': 'rMvDwrUE9OtEfFo3ySCaAV+hCLrAVrD4SRWKqdZYtb8=',\n",
       "   'count': '1',\n",
       "   'pubKey': 'weavegJuDzuduwkpp8mqGAERufHWAxT6Km6ZASEbAuRfrR51a',\n",
       "   'sig': '2SbPR6o4RkLxV1mQCXiAwxMjVKgYWhU9xpd8u24AFMrQ39c1HeX6HykNiJ3WLZ1EQWPVxtvCHw8btE1WFVyGCVZj'}}]"
      ]
     },
     "metadata": {},
     "output_type": "display_data"
    }
   ],
   "source": [
    "filter = Filter(None, { \"id\": \"ASC\" }, None, None, None)\n",
    "reply = nodeApiOwner.read(sessionOwner, data_collection, sum_table, filter, READ_DEFAULT_NO_CHAIN).get()\n",
    "#print(reply)\n",
    "df = pd.DataFrame(reply[\"data\"])\n",
    "\n",
    "display(df.tail())\n",
    "\n",
    "display(json.loads(df[\"sig\"][0]))"
   ]
  },
  {
   "cell_type": "markdown",
   "id": "76b01b48",
   "metadata": {},
   "source": [
    "### 6. Check merkle tree built from records data"
   ]
  },
  {
   "cell_type": "code",
   "execution_count": 7,
   "id": "de185fb3",
   "metadata": {},
   "outputs": [
    {
     "name": "stdout",
     "output_type": "stream",
     "text": [
      "Generated at 1693816327926\n",
      "Root Hash 3uMh9DMH9bNz8AnwM7eZut7o8j3nqErEFPx975iebsbU\n",
      "Signature 4RvXrKPfurkUU86oA71oAFuMoPTAMMNdSo8kSU3fhzr1tiU9TAvXufJpZVj5y5WCWjnGPtGToPVxj9rZkdJNsWy1\n",
      "\n",
      "1 ['3uMh9DMH9bNz8AnwM7eZut7o8j3nqErEFPx975iebsbU']\n",
      "2 ['FTzxHqefZ9zWHY1cUUD1673NjacYF3TqaJJyAqPWD46R', '7Qdc5xegCKaadnLuoCvcED4ajE1Jxg6K1DTyfD4Eh7Y1']\n",
      "\n",
      "     ____3uM..sbU___\n",
      "    /               \\\n",
      "FTz..46R          7Qd..7Y1\n",
      "\n"
     ]
    }
   ],
   "source": [
    "from binarytree import Node\n",
    "\n",
    "def showtree(tree):\n",
    "    prev = None\n",
    "    root = None\n",
    "    lvl = 1\n",
    "    for l in tree.split(\";\"):\n",
    "        level = l.split(\",\")\n",
    "        print(lvl, level)\n",
    "        lvl += 1\n",
    "        nodes = []\n",
    "        for i in range(len(level)):\n",
    "            pidx = int(i / 2)\n",
    "            node = Node(level[i][:3] + \"..\" + level[i][-3:])\n",
    "            if root is None:\n",
    "                root = node\n",
    "            nodes.append(node)\n",
    "            if prev is not None:\n",
    "                parent = prev[pidx]\n",
    "                if parent.left is None:\n",
    "                    parent.left = node\n",
    "                else:\n",
    "                    parent.right = node\n",
    "        prev = nodes\n",
    "    \n",
    "    print(root)\n",
    "\n",
    "salt = \"salt1234\" # Same salt used for records hashes, this can be improved to have different salts for *each distinct writer*\n",
    "digest = \"SHA-256\"\n",
    "\n",
    "filter = Filter(None, None, None, None, [ \"content\", \"metadata\" ])\n",
    "reply = nodeApiOwner.merkleTree(sessionOwner, data_collection, sum_table, filter, salt, digest, READ_DEFAULT_NO_CHAIN).get()\n",
    "tree = reply[\"data\"][\"tree\"]\n",
    "rootHash = reply[\"data\"][\"rootHash\"]\n",
    "ts = reply[\"data\"][\"timestamp\"]\n",
    "rootHashSignature = reply[\"data\"][\"signature\"]\n",
    "\n",
    "print(\"Generated at\", ts)\n",
    "print(\"Root Hash\", rootHash)\n",
    "print(\"Signature\", rootHashSignature)\n",
    "print(\"\")\n",
    "showtree(tree)\n",
    "# We've built a Merkle Tree at a specific time, signed by the node that created it.\n",
    "# The Merkle Leaves are salted hashes of the data in the table. Binance did an enumeration of coins."
   ]
  },
  {
   "cell_type": "markdown",
   "id": "7ebadaa9",
   "metadata": {},
   "source": [
    "### 7. Check merkle root hash on chain"
   ]
  },
  {
   "cell_type": "markdown",
   "id": "9337cc50",
   "metadata": {},
   "source": [
    "https://mumbai.polygonscan.com/address/0xDC3094e824Dc6aaFA42395bfA1e6643f285E5f4B"
   ]
  },
  {
   "cell_type": "code",
   "execution_count": 8,
   "id": "cadfb81c",
   "metadata": {},
   "outputs": [
    {
     "data": {
      "text/plain": [
       "{'signature': '52GWER3f9nv1VZEnV7vy1nKuifuvcryEXGS9432RuF3XvT1dCPHCqcLow219Jr6pcHNYD9YuoS43p1BqefHmug8V',\n",
       " 'rootHash': '3uMh9DMH9bNz8AnwM7eZut7o8j3nqErEFPx975iebsbU',\n",
       " 'timestamp': '1693816337570'}"
      ]
     },
     "metadata": {},
     "output_type": "display_data"
    }
   ],
   "source": [
    "reply = nodeApiOwner.rootHash(sessionOwner, data_collection, sum_table).get()\n",
    "data = reply[\"data\"]\n",
    "display(data)"
   ]
  },
  {
   "cell_type": "markdown",
   "id": "29baa5d5",
   "metadata": {},
   "source": [
    "# D. Anyone who has the data"
   ]
  },
  {
   "cell_type": "markdown",
   "id": "803219a0",
   "metadata": {},
   "source": [
    "### 8. Check some record presence in the merkle tree"
   ]
  },
  {
   "cell_type": "code",
   "execution_count": 9,
   "id": "44fa7df9",
   "metadata": {},
   "outputs": [
    {
     "name": "stdout",
     "output_type": "stream",
     "text": [
      "FTzxHqefZ9zWHY1cUUD1673NjacYF3TqaJJyAqPWD46R\n",
      "true\n"
     ]
    }
   ],
   "source": [
    "content = '{\"some\": \"content\"}'\n",
    "metadata = '{\"some\": \"metadata\"}'\n",
    "\n",
    "#Compute a hash of the data. Use the same salt that is agreed with the server\n",
    "row = [ content, metadata ]\n",
    "recordHash = nodeApiUser.hashRecord(row, salt)\n",
    "print(recordHash)\n",
    "\n",
    "reply = nodeApiUser.verifyMerkleHash(sessionUser, tree, recordHash).get()\n",
    "print(reply[\"data\"])"
   ]
  },
  {
   "cell_type": "markdown",
   "id": "6c293c97",
   "metadata": {},
   "source": [
    "### 9. Validate the root hash against what's stored on chain"
   ]
  },
  {
   "cell_type": "code",
   "execution_count": 10,
   "id": "fed68387",
   "metadata": {},
   "outputs": [
    {
     "data": {
      "text/plain": [
       "{'signature': '4WwmBcYTohvoVqm5uVkRagtghCqWzKSsppK7oWrn9XztzQs1tdrtegJdj4dYCwkkErEB7iKxxEdCb4s4LMf1xVhu',\n",
       " 'rootHash': '3uMh9DMH9bNz8AnwM7eZut7o8j3nqErEFPx975iebsbU',\n",
       " 'timestamp': '1693816341152'}"
      ]
     },
     "metadata": {},
     "output_type": "display_data"
    },
    {
     "name": "stdout",
     "output_type": "stream",
     "text": [
      "\n",
      "Matching: True\n",
      "Node Public Key: GfHq2tTVk9z4eXgyNBGBPNGbgD9crNgwbYnNFfbamJPoxq3cJNYpjRukK3Uf\n",
      "Check signature from merkleTree() call: True\n",
      "Check signature from blockchain: True\n"
     ]
    }
   ],
   "source": [
    "reply = nodeApiOwner.rootHash(sessionOwner, data_collection, sum_table).get()\n",
    "data = reply[\"data\"]\n",
    "display(data)\n",
    "\n",
    "chainRootHash = data[\"rootHash\"]\n",
    "print(\"\\nMatching:\", rootHash == chainRootHash) # data hashes are salted. The salt needs to match what's configured on the network to have a match\n",
    "\n",
    "signingKey = nodeApiUser.sigKey().get()[\"data\"]\n",
    "print(\"Node Public Key:\", signingKey)\n",
    "\n",
    "toSign = rootHash + \" \" + ts\n",
    "#print(rootHash)\n",
    "check = nodeApiUser.verifySignature(rootHashSignature, toSign)\n",
    "print(\"Check signature from merkleTree() call:\", check)\n",
    "\n",
    "toSign = data[\"rootHash\"] + \" \" + data[\"timestamp\"]\n",
    "check = nodeApiUser.verifySignature(data[\"signature\"], toSign)\n",
    "print(\"Check signature from blockchain:\", check)\n",
    "\n",
    "# Note, verifySignature isn't unique to Weavechain, it's EdDSA public key cryptography and the verification is done locally"
   ]
  },
  {
   "cell_type": "markdown",
   "id": "a76ac93a",
   "metadata": {},
   "source": [
    "#### Obtain a merkle proof if needed"
   ]
  },
  {
   "cell_type": "code",
   "execution_count": 11,
   "id": "041377e0",
   "metadata": {},
   "outputs": [
    {
     "data": {
      "text/plain": [
       "{'signature': '43sVPMSnam9gQn2GugA8yXHrfbbJ5Le9HrUvo4tbQ3jHT4YBsnKrri4oFa4PtxhJxhAVAuK8Rc9bVCzSevK4wtAk',\n",
       " 'rootHash': '3uMh9DMH9bNz8AnwM7eZut7o8j3nqErEFPx975iebsbU',\n",
       " 'proof': 'FTzxHqefZ9zWHY1cUUD1673NjacYF3TqaJJyAqPWD46R,7Qdc5xegCKaadnLuoCvcED4ajE1Jxg6K1DTyfD4Eh7Y1',\n",
       " 'timestamp': '1693816342352'}"
      ]
     },
     "metadata": {},
     "output_type": "display_data"
    },
    {
     "data": {
      "text/plain": [
       "[['FTzxHqefZ9zWHY1cUUD1673NjacYF3TqaJJyAqPWD46R',\n",
       "  '7Qdc5xegCKaadnLuoCvcED4ajE1Jxg6K1DTyfD4Eh7Y1']]"
      ]
     },
     "metadata": {},
     "output_type": "display_data"
    },
    {
     "name": "stdout",
     "output_type": "stream",
     "text": [
      "True\n"
     ]
    }
   ],
   "source": [
    "reply = nodeApiUser.merkleProof(sessionUser, data_collection, sum_table, recordHash).get()\n",
    "#print(reply)\n",
    "data = reply[\"data\"]\n",
    "display(data)\n",
    "\n",
    "hashes = [ h.split(\",\") for h in data[\"proof\"].split(\";\") ]\n",
    "display(hashes)\n",
    "\n",
    "proofSignature = data[\"signature\"]\n",
    "toSign = data[\"proof\"] + \" \" + data[\"timestamp\"] # the node signed the proof and the timestamp\n",
    "check = nodeApiUser.verifySignature(proofSignature, toSign)\n",
    "print(check)"
   ]
  },
  {
   "cell_type": "markdown",
   "id": "45d99a91",
   "metadata": {},
   "source": [
    "# E. Node Owner"
   ]
  },
  {
   "cell_type": "markdown",
   "id": "0bdd947d",
   "metadata": {},
   "source": [
    "### 10. Delete a record"
   ]
  },
  {
   "cell_type": "code",
   "execution_count": 12,
   "id": "c534dc02",
   "metadata": {},
   "outputs": [
    {
     "name": "stdout",
     "output_type": "stream",
     "text": [
      "{'res': 'ok', 'target': {'operationType': 'DELETE', 'organization': 'daln', 'account': 'daln', 'scope': 'vault', 'table': 'summaries'}, 'data': [{'id': 2, 'ts': '1693816313455', 'writer': 'weavez8GanHdU3jZf186xkbjwMdnZpgT1xtfnaaEtUPAzbpX6', 'wallet': '0x3389798389CD7C54C02dBB253c9f7e6851672Ab5', 'sig': '[{\"sig\":{\"recordsHash\":\"IgXmaH7Z7xUh7KLk8H9Jjtr/T2q/uvaADnadggKLu1g=\",\"count\":\"1\",\"pubKey\":\"weavez8GanHdU3jZf186xkbjwMdnZpgT1xtfnaaEtUPAzbpX6\",\"sig\":\"DQL3A94987xEUB9po18W9KdnVcNLQ3zwsrDSMaVozWbUTpi7S294U45M7t2md4LmryiubckaHbBFMaX6y838JRQ\"}}]', 'access': 'writer', 'content': '{\"some\": \"content\"}', 'metadata': '{\"some\": \"metadata\"}'}]}\n"
     ]
    }
   ],
   "source": [
    "nodeApicontent = '{\"some\": \"content\"}'\n",
    "metadata = '{\"some\": \"metadata\"}'\n",
    "\n",
    "\n",
    "# Delete by content, \n",
    "#   could also be done by writer: FilterOp.eq(\"wallet\", \"0x3389798389CD7C54C02dBB253c9f7e6851672Ab5\"),\n",
    "#   or record id: FilterOp.eq(\"id\", 1),\n",
    "\n",
    "filter = Filter(\n",
    "    FilterOp.opand(\n",
    "        FilterOp.eq(\"content\", content),\n",
    "        FilterOp.eq(\"metadata\", metadata)\n",
    "    ), \n",
    "    None, None, None, None)\n",
    "reply = nodeApiOwner.delete(sessionOwner, data_collection, sum_table, filter, DELETE_DEFAULT).get()\n",
    "print(reply)"
   ]
  },
  {
   "cell_type": "markdown",
   "id": "2bc4e231",
   "metadata": {},
   "source": [
    "### 11. Verify that it's no longer in the merkle tree"
   ]
  },
  {
   "cell_type": "code",
   "execution_count": 13,
   "id": "46323ba6",
   "metadata": {},
   "outputs": [
    {
     "name": "stdout",
     "output_type": "stream",
     "text": [
      "FTzxHqefZ9zWHY1cUUD1673NjacYF3TqaJJyAqPWD46R\n",
      "7Qdc5xegCKaadnLuoCvcED4ajE1Jxg6K1DTyfD4Eh7Y1\n",
      "false\n"
     ]
    }
   ],
   "source": [
    "#Compute a hash of the data. Use the same salt that is agreed with the server\n",
    "row = [ content, metadata ]\n",
    "recordHash = nodeApiUser.hashRecord(row, salt)\n",
    "print(recordHash)\n",
    "\n",
    "filter = Filter(None, None, None, None, [ \"content\", \"metadata\" ])\n",
    "reply = nodeApiOwner.merkleTree(sessionOwner, data_collection, sum_table, filter, salt, digest, READ_DEFAULT_NO_CHAIN).get()\n",
    "\n",
    "tree = reply[\"data\"][\"tree\"]\n",
    "print(tree)\n",
    "\n",
    "#we use the same record hash that we previously checked to be in the tree\n",
    "reply = nodeApiUser.verifyMerkleHash(sessionUser, tree, recordHash).get()\n",
    "print(reply[\"data\"])"
   ]
  }
 ],
 "metadata": {
  "kernelspec": {
   "display_name": "Python 3 (ipykernel)",
   "language": "python",
   "name": "python3"
  },
  "language_info": {
   "codemirror_mode": {
    "name": "ipython",
    "version": 3
   },
   "file_extension": ".py",
   "mimetype": "text/x-python",
   "name": "python",
   "nbconvert_exporter": "python",
   "pygments_lexer": "ipython3",
   "version": "3.9.16"
  }
 },
 "nbformat": 4,
 "nbformat_minor": 5
}
