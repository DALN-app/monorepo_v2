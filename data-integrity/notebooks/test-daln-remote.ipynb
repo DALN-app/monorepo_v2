{
 "cells": [
  {
   "cell_type": "markdown",
   "id": "3e4eb758",
   "metadata": {},
   "source": [
    "## DALN Test App"
   ]
  },
  {
   "cell_type": "markdown",
   "id": "6baee29d",
   "metadata": {},
   "source": [
    "# A. Node Owner"
   ]
  },
  {
   "cell_type": "markdown",
   "id": "a4622208",
   "metadata": {},
   "source": [
    "### 1. Create a new session as owner"
   ]
  },
  {
   "cell_type": "code",
   "execution_count": 14,
   "id": "12ce3f0d",
   "metadata": {},
   "outputs": [
    {
     "name": "stdout",
     "output_type": "stream",
     "text": [
      "{\"res\":\"ok\",\"data\":\"pong 1694104481656\"}\n"
     ]
    }
   ],
   "source": [
    "from weaveapi.records import *\n",
    "from weaveapi.options import *\n",
    "from weaveapi.filter import *\n",
    "from weaveapi.weaveh import *\n",
    "\n",
    "import pandas as pd\n",
    "\n",
    "from web3.auto import w3\n",
    "from eth_account.messages import encode_defunct\n",
    "from hexbytes import HexBytes\n",
    "\n",
    "WEAVE_CONFIG = \"config/demo_client_remote_daln.config\"\n",
    "nodeApiOwner, sessionOwner = connect_weave_api(WEAVE_CONFIG)\n",
    "\n",
    "organization = \"daln\"\n",
    "\n",
    "data_collection = \"vault\"\n",
    "sum_table = \"summaries\""
   ]
  },
  {
   "cell_type": "markdown",
   "id": "27f1ae57",
   "metadata": {},
   "source": [
    "### 2. Create a table to store user data (WARN: removes all previously stored data)"
   ]
  },
  {
   "cell_type": "code",
   "execution_count": 15,
   "id": "3050073f",
   "metadata": {},
   "outputs": [
    {
     "name": "stdout",
     "output_type": "stream",
     "text": [
      "{'res': 'ok', 'target': {'operationType': 'CREATE_TABLE', 'organization': 'daln', 'account': 'daln', 'scope': 'vault', 'table': 'summaries'}}\n"
     ]
    }
   ],
   "source": [
    "layout = { \n",
    "    \"columns\": { \n",
    "        \"id\": { \"type\": \"LONG\", \"isIndexed\": True, \"isUnique\": True, \"isNullable\": False },\n",
    "        \"ts\": { \"type\": \"LONG\" },\n",
    "        \"writer\": { \"type\": \"STRING\" },\n",
    "        \"wallet\": { \"type\": \"STRING\" },\n",
    "        \"sig\": { \"type\": \"STRING\" },\n",
    "        \"access\": { \"type\": \"STRING\" },\n",
    "        \"content\": { \"type\": \"STRING\" },\n",
    "        \"metadata\": { \"type\": \"STRING\" }\n",
    "    }, \n",
    "    \"idColumnIndex\": 0,  # Autogenerates IDs\n",
    "    \"timestampColumnIndex\": 1, # Fills the column automatically with the network time\n",
    "    \"ownerColumnIndex\": 2, # Fills the column automatically with the public key of the writer\n",
    "    \"walletColumnIndex\": 3, # Fills the column automatically with the wallet of the writer (if any)\n",
    "    \"signatureColumnIndex\": 4, # Fills the column with an EdDSA signature of the record hash\n",
    "    \"allowedRolesColumnIndex\": 5, # Fills the column with the allowed reader\n",
    "    \"isLocal\": False,\n",
    "    \"applyReadTransformations\": True\n",
    "}\n",
    "\n",
    "nodeApiOwner.dropTable(sessionOwner, data_collection, sum_table).get()\n",
    "reply = nodeApiOwner.createTable(sessionOwner, data_collection, sum_table, CreateOptions(False, False, layout)).get()\n",
    "print(reply)"
   ]
  },
  {
   "cell_type": "markdown",
   "id": "5383a949",
   "metadata": {},
   "source": [
    "# B. User"
   ]
  },
  {
   "cell_type": "markdown",
   "id": "38aac378",
   "metadata": {},
   "source": [
    "### 3. Create a new session"
   ]
  },
  {
   "cell_type": "markdown",
   "id": "f5cccd1b",
   "metadata": {},
   "source": [
    "- we prove wallet ownership here in order to link our custodial wallet to a blockchain address"
   ]
  },
  {
   "cell_type": "code",
   "execution_count": 16,
   "id": "33a2f798",
   "metadata": {},
   "outputs": [
    {
     "name": "stdout",
     "output_type": "stream",
     "text": [
      "{'account': 'polygon:0x3389798389CD7C54C02dBB253c9f7e6851672Ab5', 'sig': '0x9774f6a2e01af64ec2477b5ce8336a487d03c11594c455e5bca06c7851d5d39230f62d9e6ed9054e37f1624c498c83a58c93d96ce227a3a6f1f60a673290bc6a1b', 'template': '*', 'role': '*'}\n",
      "weavebwBcqSsZYhNLAXcTq7tVxubb7NZa131ho89qvmPS5av7\n",
      "{\"res\":\"ok\",\"data\":\"pong 1694104484628\"}\n"
     ]
    }
   ],
   "source": [
    "from weaveapi.records import *\n",
    "from weaveapi.options import *\n",
    "from weaveapi.filter import *\n",
    "from weaveapi.weaveh import *\n",
    "\n",
    "from web3.auto import w3\n",
    "from eth_account.messages import encode_defunct\n",
    "from hexbytes import HexBytes\n",
    "\n",
    "keys = nodeApiOwner.generateKeys()\n",
    "pub = keys[0]\n",
    "pvk = keys[1]\n",
    "\n",
    "node_url = \"http://ec2-16-171-161-12.eu-north-1.compute.amazonaws.com:443/099cdbbe4213bff84ec9c051749e090e\"\n",
    "\n",
    "chain = \"polygon\"\n",
    "wallet = \"0x3389798389CD7C54C02dBB253c9f7e6851672Ab5\" # Wallet\n",
    "with open(\"config/\" + wallet[0:6] + \".pvk\") as f:     # Expecting a .pvk file with the same name in the jupyter server\n",
    "    eth_pvk = f.read()\n",
    "\n",
    "msg = \"Please sign this message to confirm you own this wallet\\nThere will be no blockchain transaction or any gas fees.\\n\\nWallet: \" + wallet + \"\\nKey: \" + pub\n",
    "message = encode_defunct(text=msg)\n",
    "signature = w3.eth.account.sign_message(message, private_key=eth_pvk)\n",
    "credentials = {\n",
    "    \"account\": chain + \":\" + wallet,\n",
    "    \"sig\": signature.signature.hex(),\n",
    "    \"template\": \"*\",\n",
    "    \"role\": \"*\"\n",
    "}\n",
    "print(credentials)\n",
    "print(pub)\n",
    "config = weave_client_config(pub, pvk, node_url, organization)\n",
    "nodeApiUser, sessionUser = connect_weave_api(config, credentials)"
   ]
  },
  {
   "cell_type": "markdown",
   "id": "b00cac3c",
   "metadata": {},
   "source": [
    "### 4. Write a record"
   ]
  },
  {
   "cell_type": "code",
   "execution_count": 17,
   "id": "7f398f70",
   "metadata": {
    "scrolled": true
   },
   "outputs": [
    {
     "name": "stdout",
     "output_type": "stream",
     "text": [
      "{'res': 'ok', 'target': {'operationType': 'WRITE', 'organization': 'daln', 'account': 'weavebwBcqSsZYhNLAXcTq7tVxubb7NZa131ho89qvmPS5av7', 'scope': 'vault', 'table': 'summaries'}, 'data': 'weaveeGhKYJCZbmB96Qi8MFFqUQFx9u2NFdwK29RcTLZHpp4d,IgXmaH7Z7xUh7KLk8H9Jjtr/T2q/uvaADnadggKLu1g=,4DDy87gHoXmF5ejZzqpZF9LQmPT8tPGQQrxAz9YCSbDvE5dsk5SyGwXBqPm5grKtPHBx7Kpoft63LGEXHBWwChWQ', 'ids': '1'}\n"
     ]
    }
   ],
   "source": [
    "rows = [\n",
    "    [ \n",
    "        None, # id, autofilled\n",
    "        None, # timestamp, autofilled\n",
    "        None, # writer, autofilled\n",
    "        None, # wallet, autofilled\n",
    "        None, # signature, autofilled\n",
    "        \"writer\",\n",
    "        '{\"some\": \"content\"}',\n",
    "        '{\"some\": \"metadata\"}'\n",
    "    ]\n",
    "]\n",
    "\n",
    "records = Records(sum_table, rows)\n",
    "res = nodeApiUser.write(sessionUser, data_collection, records, WRITE_DEFAULT).get()\n",
    "print(res)"
   ]
  },
  {
   "cell_type": "markdown",
   "id": "0f4eca0b",
   "metadata": {},
   "source": [
    "**Try to read records**"
   ]
  },
  {
   "cell_type": "code",
   "execution_count": 18,
   "id": "888f88b3",
   "metadata": {},
   "outputs": [
    {
     "name": "stdout",
     "output_type": "stream",
     "text": [
      "{'res': 'err', 'target': {'operationType': 'READ', 'organization': 'daln', 'account': 'weavebwBcqSsZYhNLAXcTq7tVxubb7NZa131ho89qvmPS5av7', 'scope': 'vault', 'table': 'summaries'}, 'message': 'Access denied'}\n"
     ]
    }
   ],
   "source": [
    "filter = Filter(None, { \"id\": \"ASC\" }, None, None, None)\n",
    "reply = nodeApiUser.read(sessionUser, data_collection, sum_table, filter, READ_DEFAULT_NO_CHAIN).get()\n",
    "print(reply)"
   ]
  },
  {
   "cell_type": "markdown",
   "id": "23fddcda",
   "metadata": {},
   "source": [
    "# C. Node Owner"
   ]
  },
  {
   "cell_type": "markdown",
   "id": "5dc32e4d",
   "metadata": {},
   "source": [
    "### 5. Read data as owner"
   ]
  },
  {
   "cell_type": "code",
   "execution_count": 19,
   "id": "6db32ae1",
   "metadata": {
    "scrolled": true
   },
   "outputs": [
    {
     "data": {
      "text/html": [
       "<div>\n",
       "<style scoped>\n",
       "    .dataframe tbody tr th:only-of-type {\n",
       "        vertical-align: middle;\n",
       "    }\n",
       "\n",
       "    .dataframe tbody tr th {\n",
       "        vertical-align: top;\n",
       "    }\n",
       "\n",
       "    .dataframe thead th {\n",
       "        text-align: right;\n",
       "    }\n",
       "</style>\n",
       "<table border=\"1\" class=\"dataframe\">\n",
       "  <thead>\n",
       "    <tr style=\"text-align: right;\">\n",
       "      <th></th>\n",
       "      <th>id</th>\n",
       "      <th>ts</th>\n",
       "      <th>writer</th>\n",
       "      <th>wallet</th>\n",
       "      <th>sig</th>\n",
       "      <th>access</th>\n",
       "      <th>content</th>\n",
       "      <th>metadata</th>\n",
       "    </tr>\n",
       "  </thead>\n",
       "  <tbody>\n",
       "    <tr>\n",
       "      <th>0</th>\n",
       "      <td>1</td>\n",
       "      <td>1694104486667</td>\n",
       "      <td>weavebwBcqSsZYhNLAXcTq7tVxubb7NZa131ho89qvmPS5av7</td>\n",
       "      <td>0x3389798389CD7C54C02dBB253c9f7e6851672Ab5</td>\n",
       "      <td>[{\"sig\":{\"recordsHash\":\"IgXmaH7Z7xUh7KLk8H9Jjt...</td>\n",
       "      <td>writer</td>\n",
       "      <td>{\"some\": \"content\"}</td>\n",
       "      <td>{\"some\": \"metadata\"}</td>\n",
       "    </tr>\n",
       "  </tbody>\n",
       "</table>\n",
       "</div>"
      ],
      "text/plain": [
       "   id             ts                                             writer  \\\n",
       "0   1  1694104486667  weavebwBcqSsZYhNLAXcTq7tVxubb7NZa131ho89qvmPS5av7   \n",
       "\n",
       "                                       wallet  \\\n",
       "0  0x3389798389CD7C54C02dBB253c9f7e6851672Ab5   \n",
       "\n",
       "                                                 sig  access  \\\n",
       "0  [{\"sig\":{\"recordsHash\":\"IgXmaH7Z7xUh7KLk8H9Jjt...  writer   \n",
       "\n",
       "               content              metadata  \n",
       "0  {\"some\": \"content\"}  {\"some\": \"metadata\"}  "
      ]
     },
     "metadata": {},
     "output_type": "display_data"
    },
    {
     "data": {
      "text/plain": [
       "[{'sig': {'recordsHash': 'IgXmaH7Z7xUh7KLk8H9Jjtr/T2q/uvaADnadggKLu1g=',\n",
       "   'count': '1',\n",
       "   'pubKey': 'weavebwBcqSsZYhNLAXcTq7tVxubb7NZa131ho89qvmPS5av7',\n",
       "   'sig': '3PF6N88FNJf4Gjd8oLkwE1QvQDLnDojGBABapLD8pdcBkHE8u4BYEYQzYsVrHKGw2bZeaK91U3iweJ2bZzzfKK2p'}}]"
      ]
     },
     "metadata": {},
     "output_type": "display_data"
    }
   ],
   "source": [
    "filter = Filter(None, { \"id\": \"ASC\" }, None, None, None)\n",
    "reply = nodeApiOwner.read(sessionOwner, data_collection, sum_table, filter, READ_DEFAULT_NO_CHAIN).get()\n",
    "#print(reply)\n",
    "df = pd.DataFrame(reply[\"data\"])\n",
    "\n",
    "display(df.tail())\n",
    "\n",
    "display(json.loads(df[\"sig\"][0]))"
   ]
  },
  {
   "cell_type": "markdown",
   "id": "20f59632",
   "metadata": {},
   "source": [
    "### 6. Check merkle tree built from records data"
   ]
  },
  {
   "cell_type": "code",
   "execution_count": 20,
   "id": "7f3e7ad2",
   "metadata": {},
   "outputs": [
    {
     "name": "stdout",
     "output_type": "stream",
     "text": [
      "Generated at 1694104490375\n",
      "Root Hash FTzxHqefZ9zWHY1cUUD1673NjacYF3TqaJJyAqPWD46R\n",
      "Signature 2a2dRZjq8P6c6bWH3Dkfwq5xCvEJ8iJcpcmxEbdRLqTbu9Cbv2g7VZLT3gYCHtuqb2TYydZXEP25yMeRZmaRCvN1\n",
      "\n",
      "1 ['FTzxHqefZ9zWHY1cUUD1673NjacYF3TqaJJyAqPWD46R']\n",
      "\n",
      "FTz..46R\n",
      "\n"
     ]
    }
   ],
   "source": [
    "from binarytree import Node\n",
    "\n",
    "def showtree(tree):\n",
    "    prev = None\n",
    "    root = None\n",
    "    lvl = 1\n",
    "    for l in tree.split(\";\"):\n",
    "        level = l.split(\",\")\n",
    "        print(lvl, level)\n",
    "        lvl += 1\n",
    "        nodes = []\n",
    "        for i in range(len(level)):\n",
    "            pidx = int(i / 2)\n",
    "            node = Node(level[i][:3] + \"..\" + level[i][-3:])\n",
    "            if root is None:\n",
    "                root = node\n",
    "            nodes.append(node)\n",
    "            if prev is not None:\n",
    "                parent = prev[pidx]\n",
    "                if parent.left is None:\n",
    "                    parent.left = node\n",
    "                else:\n",
    "                    parent.right = node\n",
    "        prev = nodes\n",
    "    \n",
    "    print(root)\n",
    "\n",
    "salt = \"salt1234\" # Same salt used for records hashes, this can be improved to have different salts for *each distinct writer*\n",
    "digest = \"SHA-256\"\n",
    "\n",
    "filter = Filter(None, None, None, None, [ \"content\", \"metadata\" ])\n",
    "reply = nodeApiOwner.merkleTree(sessionOwner, data_collection, sum_table, filter, salt, digest, READ_DEFAULT_NO_CHAIN).get()\n",
    "tree = reply[\"data\"][\"tree\"]\n",
    "rootHash = reply[\"data\"][\"rootHash\"]\n",
    "ts = reply[\"data\"][\"timestamp\"]\n",
    "rootHashSignature = reply[\"data\"][\"signature\"]\n",
    "\n",
    "print(\"Generated at\", ts)\n",
    "print(\"Root Hash\", rootHash)\n",
    "print(\"Signature\", rootHashSignature)\n",
    "print(\"\")\n",
    "showtree(tree)\n",
    "# We've built a Merkle Tree at a specific time, signed by the node that created it.\n",
    "# The Merkle Leaves are salted hashes of the data in the table. Binance did an enumeration of coins."
   ]
  },
  {
   "cell_type": "markdown",
   "id": "1092dc5b",
   "metadata": {},
   "source": [
    "### 7. Check merkle root hash on chain"
   ]
  },
  {
   "cell_type": "markdown",
   "id": "ebc12b5b",
   "metadata": {},
   "source": [
    "https://mumbai.polygonscan.com/address/0xDC3094e824Dc6aaFA42395bfA1e6643f285E5f4B"
   ]
  },
  {
   "cell_type": "code",
   "execution_count": 21,
   "id": "48dd0a71",
   "metadata": {},
   "outputs": [
    {
     "data": {
      "text/plain": [
       "{'signature': 'NDSbMqQguKPvYLvTAZttZu8QGQhyQRDYouK42oTKj49UPSthVZ2cQUmNegB1Gn2NKGpca97v9GAVVhRvUXPbJDv',\n",
       " 'rootHash': 'FTzxHqefZ9zWHY1cUUD1673NjacYF3TqaJJyAqPWD46R',\n",
       " 'timestamp': '1694104502989'}"
      ]
     },
     "metadata": {},
     "output_type": "display_data"
    }
   ],
   "source": [
    "reply = nodeApiOwner.rootHash(sessionOwner, data_collection, sum_table).get()\n",
    "data = reply[\"data\"]\n",
    "display(data)"
   ]
  },
  {
   "cell_type": "markdown",
   "id": "ce95e756",
   "metadata": {},
   "source": [
    "# D. Anyone who has the data"
   ]
  },
  {
   "cell_type": "markdown",
   "id": "a215bdc8",
   "metadata": {},
   "source": [
    "### 8. Check some record presence in the merkle tree"
   ]
  },
  {
   "cell_type": "code",
   "execution_count": 22,
   "id": "a6d3ffd8",
   "metadata": {},
   "outputs": [
    {
     "name": "stdout",
     "output_type": "stream",
     "text": [
      "FTzxHqefZ9zWHY1cUUD1673NjacYF3TqaJJyAqPWD46R\n",
      "true\n"
     ]
    }
   ],
   "source": [
    "content = '{\"some\": \"content\"}'\n",
    "metadata = '{\"some\": \"metadata\"}'\n",
    "\n",
    "#Compute a hash of the data. Use the same salt that is agreed with the server\n",
    "row = [ content, metadata ]\n",
    "recordHash = nodeApiUser.hashRecord(row, salt)\n",
    "print(recordHash)\n",
    "\n",
    "reply = nodeApiUser.verifyMerkleHash(sessionUser, tree, recordHash).get()\n",
    "print(reply[\"data\"])"
   ]
  },
  {
   "cell_type": "markdown",
   "id": "c5feb5df",
   "metadata": {},
   "source": [
    "### 9. Validate the root hash against what's stored on chain"
   ]
  },
  {
   "cell_type": "code",
   "execution_count": 23,
   "id": "34922c22",
   "metadata": {},
   "outputs": [
    {
     "data": {
      "text/plain": [
       "{'signature': 'bB5vCXv4adD5V6Wn1X63w8oyYjezJYKrMHWoEsJw8m9SEPQ8XR6LoNJhwvHmJEEsRJyo46gotBmfVfMt5c6JdCg',\n",
       " 'rootHash': 'FTzxHqefZ9zWHY1cUUD1673NjacYF3TqaJJyAqPWD46R',\n",
       " 'timestamp': '1694104507795'}"
      ]
     },
     "metadata": {},
     "output_type": "display_data"
    },
    {
     "name": "stdout",
     "output_type": "stream",
     "text": [
      "\n",
      "Matching: True\n",
      "Node Public Key: GfHq2tTVk9z4eXgyNBGBPNGbgD9crNgwbYnNFfbamJPoxq3cJNYpjRukK3Uf\n",
      "Check signature from merkleTree() call: True\n",
      "Check signature from blockchain: True\n"
     ]
    }
   ],
   "source": [
    "reply = nodeApiOwner.rootHash(sessionOwner, data_collection, sum_table).get()\n",
    "data = reply[\"data\"]\n",
    "display(data)\n",
    "\n",
    "chainRootHash = data[\"rootHash\"]\n",
    "print(\"\\nMatching:\", rootHash == chainRootHash) # data hashes are salted. The salt needs to match what's configured on the network to have a match\n",
    "\n",
    "signingKey = nodeApiUser.sigKey().get()[\"data\"]\n",
    "print(\"Node Public Key:\", signingKey)\n",
    "\n",
    "toSign = rootHash + \" \" + ts\n",
    "#print(rootHash)\n",
    "check = nodeApiUser.verifySignature(rootHashSignature, toSign)\n",
    "print(\"Check signature from merkleTree() call:\", check)\n",
    "\n",
    "toSign = data[\"rootHash\"] + \" \" + data[\"timestamp\"]\n",
    "check = nodeApiUser.verifySignature(data[\"signature\"], toSign)\n",
    "print(\"Check signature from blockchain:\", check)\n",
    "\n",
    "# Note, verifySignature isn't unique to Weavechain, it's EdDSA public key cryptography and the verification is done locally"
   ]
  },
  {
   "cell_type": "markdown",
   "id": "de2ad199",
   "metadata": {},
   "source": [
    "#### Obtain a merkle proof if needed"
   ]
  },
  {
   "cell_type": "code",
   "execution_count": 24,
   "id": "c8ece77b",
   "metadata": {},
   "outputs": [
    {
     "data": {
      "text/plain": [
       "{'signature': '4KgemWVWGCXV9MpCUAeLLvg3LsbYvgeo8rDzL2W9bbPxLuuajs7dt8DAXEarCP2k8q7yE6LUPBWjZo4zMccgUpEn',\n",
       " 'rootHash': 'FTzxHqefZ9zWHY1cUUD1673NjacYF3TqaJJyAqPWD46R',\n",
       " 'proof': 'FTzxHqefZ9zWHY1cUUD1673NjacYF3TqaJJyAqPWD46R',\n",
       " 'timestamp': '1694104509317'}"
      ]
     },
     "metadata": {},
     "output_type": "display_data"
    },
    {
     "data": {
      "text/plain": [
       "[['FTzxHqefZ9zWHY1cUUD1673NjacYF3TqaJJyAqPWD46R']]"
      ]
     },
     "metadata": {},
     "output_type": "display_data"
    },
    {
     "name": "stdout",
     "output_type": "stream",
     "text": [
      "True\n"
     ]
    }
   ],
   "source": [
    "reply = nodeApiUser.merkleProof(sessionUser, data_collection, sum_table, recordHash).get()\n",
    "#print(reply)\n",
    "data = reply[\"data\"]\n",
    "display(data)\n",
    "\n",
    "hashes = [ h.split(\",\") for h in data[\"proof\"].split(\";\") ]\n",
    "display(hashes)\n",
    "\n",
    "proofSignature = data[\"signature\"]\n",
    "toSign = data[\"proof\"] + \" \" + data[\"timestamp\"] # the node signed the proof and the timestamp\n",
    "check = nodeApiUser.verifySignature(proofSignature, toSign)\n",
    "print(check)"
   ]
  },
  {
   "cell_type": "markdown",
   "id": "0b27ca05",
   "metadata": {},
   "source": [
    "# E. Node Owner"
   ]
  },
  {
   "cell_type": "markdown",
   "id": "ee1ca3e1",
   "metadata": {},
   "source": [
    "### 10. Delete a record"
   ]
  },
  {
   "cell_type": "code",
   "execution_count": 25,
   "id": "3cf5fc7d",
   "metadata": {},
   "outputs": [
    {
     "name": "stdout",
     "output_type": "stream",
     "text": [
      "{'res': 'ok', 'target': {'operationType': 'DELETE', 'organization': 'daln', 'account': 'daln', 'scope': 'vault', 'table': 'summaries'}, 'data': [{'id': 1, 'ts': '1694104486667', 'writer': 'weavebwBcqSsZYhNLAXcTq7tVxubb7NZa131ho89qvmPS5av7', 'wallet': '0x3389798389CD7C54C02dBB253c9f7e6851672Ab5', 'sig': '[{\"sig\":{\"recordsHash\":\"IgXmaH7Z7xUh7KLk8H9Jjtr/T2q/uvaADnadggKLu1g=\",\"count\":\"1\",\"pubKey\":\"weavebwBcqSsZYhNLAXcTq7tVxubb7NZa131ho89qvmPS5av7\",\"sig\":\"3PF6N88FNJf4Gjd8oLkwE1QvQDLnDojGBABapLD8pdcBkHE8u4BYEYQzYsVrHKGw2bZeaK91U3iweJ2bZzzfKK2p\"}}]', 'access': 'writer', 'content': '{\"some\": \"content\"}', 'metadata': '{\"some\": \"metadata\"}'}]}\n"
     ]
    }
   ],
   "source": [
    "nodeApicontent = '{\"some\": \"content\"}'\n",
    "metadata = '{\"some\": \"metadata\"}'\n",
    "\n",
    "\n",
    "# Delete by content, \n",
    "#   could also be done by writer: FilterOp.eq(\"wallet\", \"0x3389798389CD7C54C02dBB253c9f7e6851672Ab5\"),\n",
    "#   or record id: FilterOp.eq(\"id\", 1),\n",
    "\n",
    "filter = Filter(\n",
    "    FilterOp.opand(\n",
    "        FilterOp.eq(\"content\", content),\n",
    "        FilterOp.eq(\"metadata\", metadata)\n",
    "    ), \n",
    "    None, None, None, None)\n",
    "reply = nodeApiOwner.delete(sessionOwner, data_collection, sum_table, filter, DELETE_DEFAULT).get()\n",
    "print(reply)"
   ]
  },
  {
   "cell_type": "markdown",
   "id": "571950bf",
   "metadata": {},
   "source": [
    "### 11. Verify that it's no longer in the merkle tree"
   ]
  },
  {
   "cell_type": "code",
   "execution_count": 26,
   "id": "ddcec93a",
   "metadata": {},
   "outputs": [
    {
     "name": "stdout",
     "output_type": "stream",
     "text": [
      "FTzxHqefZ9zWHY1cUUD1673NjacYF3TqaJJyAqPWD46R\n",
      "\n",
      "false\n"
     ]
    }
   ],
   "source": [
    "#Compute a hash of the data. Use the same salt that is agreed with the server\n",
    "row = [ content, metadata ]\n",
    "recordHash = nodeApiUser.hashRecord(row, salt)\n",
    "print(recordHash)\n",
    "\n",
    "filter = Filter(None, None, None, None, [ \"content\", \"metadata\" ])\n",
    "reply = nodeApiOwner.merkleTree(sessionOwner, data_collection, sum_table, filter, salt, digest, READ_DEFAULT_NO_CHAIN).get()\n",
    "\n",
    "tree = reply[\"data\"][\"tree\"]\n",
    "print(tree)\n",
    "\n",
    "#we use the same record hash that we previously checked to be in the tree\n",
    "reply = nodeApiUser.verifyMerkleHash(sessionUser, tree, recordHash).get()\n",
    "print(reply[\"data\"])"
   ]
  }
 ],
 "metadata": {
  "kernelspec": {
   "display_name": "Python 3 (ipykernel)",
   "language": "python",
   "name": "python3"
  },
  "language_info": {
   "codemirror_mode": {
    "name": "ipython",
    "version": 3
   },
   "file_extension": ".py",
   "mimetype": "text/x-python",
   "name": "python",
   "nbconvert_exporter": "python",
   "pygments_lexer": "ipython3",
   "version": "3.9.16"
  }
 },
 "nbformat": 4,
 "nbformat_minor": 5
}
